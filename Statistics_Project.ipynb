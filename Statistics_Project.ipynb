{
  "nbformat": 4,
  "nbformat_minor": 0,
  "metadata": {
    "kernelspec": {
      "display_name": "Python 3",
      "language": "python",
      "name": "python3"
    },
    "language_info": {
      "codemirror_mode": {
        "name": "ipython",
        "version": 3
      },
      "file_extension": ".py",
      "mimetype": "text/x-python",
      "name": "python",
      "nbconvert_exporter": "python",
      "pygments_lexer": "ipython3",
      "version": "3.8.5"
    },
    "colab": {
      "name": "Statistics_Project.ipynb",
      "provenance": [],
      "include_colab_link": true
    }
  },
  "cells": [
    {
      "cell_type": "markdown",
      "metadata": {
        "id": "view-in-github",
        "colab_type": "text"
      },
      "source": [
        "<a href=\"https://colab.research.google.com/github/RithikJ/Content-Based-Color-Image-Classification/blob/main/Statistics_Project.ipynb\" target=\"_parent\"><img src=\"https://colab.research.google.com/assets/colab-badge.svg\" alt=\"Open In Colab\"/></a>"
      ]
    },
    {
      "cell_type": "code",
      "metadata": {
        "id": "5HHJe1xXi476"
      },
      "source": [
        "import os\n",
        "import cv2\n",
        "from random import seed\n",
        "import random\n",
        "import pandas as pd\n",
        "import numpy as np\n",
        "from random import randrange\n",
        "from sklearn.model_selection import train_test_split as tts\n",
        "from sklearn.preprocessing import MinMaxScaler\n",
        "from matplotlib import pyplot as plt\n",
        "from sklearn.model_selection import KFold\n",
        "from sklearn.utils import shuffle\n",
        "from sklearn.metrics import accuracy_score"
      ],
      "execution_count": null,
      "outputs": []
    },
    {
      "cell_type": "code",
      "metadata": {
        "id": "milXPfUXi48D"
      },
      "source": [
        "pathDataset='/home/keshav200100/Desktop/6th Sem/EE343/Project/dataset/'"
      ],
      "execution_count": null,
      "outputs": []
    },
    {
      "cell_type": "code",
      "metadata": {
        "id": "PpMRKrXIi48F"
      },
      "source": [
        "def check_imageData():\n",
        "    car_dir = os.path.join(pathDataset,'car')\n",
        "    elephant_dir = os.path.join(pathDataset,'elephant')\n",
        "    fire_dir = os.path.join(pathDataset,'fire')\n",
        "    lion_dir = os.path.join(pathDataset,'lion')\n",
        "    print(\"Total no. of cars\",len(os.listdir(car_dir)))\n",
        "    print(\"Total no. of elephant\",len(os.listdir(elephant_dir)))\n",
        "    print(\"Total no. of fire\",len(os.listdir(fire_dir)))\n",
        "    print(\"Total no. of lion\",len(os.listdir(lion_dir)))"
      ],
      "execution_count": null,
      "outputs": []
    },
    {
      "cell_type": "code",
      "metadata": {
        "id": "eEDgnUWXi48I"
      },
      "source": [
        "def feature_extraction(hito):\n",
        "    count=0\n",
        "    for obj_file in os.listdir(pathDataset):\n",
        "        obj_dir = os.listdir(os.path.join(pathDataset,obj_file))\n",
        "        for file in obj_dir:\n",
        "            img_path = os.path.join(pathDataset,obj_file,file)\n",
        "            img = cv2.imread(img_path,cv2.COLOR_BGR2RGB)\n",
        "            hist_0 = cv2.calcHist([img],[0],None,[256],[0,256])\n",
        "            hist_1 = cv2.calcHist([img],[1],None,[256],[0,256])\n",
        "            hist_2 = cv2.calcHist([img],[2],None,[256],[0,256])\n",
        "            hist=np.append(hist_0,hist_1)\n",
        "            hist=np.append(hist,hist_2)\n",
        "            hist=np.append(hist_0,obj_file)\n",
        "            hito=np.append(hito,[hist],axis=0)\n",
        "        count=count+1\n",
        "    return hito"
      ],
      "execution_count": null,
      "outputs": []
    },
    {
      "cell_type": "code",
      "metadata": {
        "id": "mPmp3nd_i48K"
      },
      "source": [
        "def initializer():\n",
        "    hito=np.empty((0,257))\n",
        "    labels = {'car':1,'elephant':2,'fire':3,'lion':4}\n",
        "    hito=feature_extraction(hito)\n",
        "    df=pd.DataFrame(hito)\n",
        "    df=df.rename(columns={256:'class'})\n",
        "    df['class']=df['class'].map(labels)\n",
        "    df.to_csv('Dataset.csv')\n",
        "    df=pd.read_csv('Dataset.csv')\n",
        "    X=df.iloc[:,1:257]\n",
        "    X_normal= np.array(MinMaxScaler().fit_transform(X.values))\n",
        "    Y=df.loc[:,'class']\n",
        "    return X_normal,Y"
      ],
      "execution_count": null,
      "outputs": []
    },
    {
      "cell_type": "code",
      "metadata": {
        "id": "FRZA8KEii48L"
      },
      "source": [
        "# was not working as per expectation\n",
        "def cross_validation(index,fold):\n",
        "    seed(1)\n",
        "    ind_split =np.empty((0,0,1))\n",
        "    return "
      ],
      "execution_count": null,
      "outputs": []
    },
    {
      "cell_type": "code",
      "metadata": {
        "id": "D8DULkHai48N"
      },
      "source": [
        "def compute_cost(W, X, Y):\n",
        "    N = X.shape[0]\n",
        "    distances = 1 - Y * (np.dot(X, W))\n",
        "    distances[distances < 0] = 0 \n",
        "    hinge_loss = regularization_strength * (np.sum(distances) / N)\n",
        "\n",
        "    cost = 1 / 2 * np.dot(W, W) + hinge_loss\n",
        "    return cost"
      ],
      "execution_count": null,
      "outputs": []
    },
    {
      "cell_type": "code",
      "metadata": {
        "id": "uKxPo5YEi48Q"
      },
      "source": [
        "def calculate_cost_gradient(W, X_batch, Y_batch):\n",
        "    if type(Y_batch) == np.float64:\n",
        "        Y_batch = np.array([Y_batch])\n",
        "        X_batch = np.array([X_batch]) \n",
        "    distance = 1 - Y_batch * (np.dot(X_batch, W))\n",
        "    dw = np.zeros(len(W))\n",
        "    for ind, d in enumerate(distance):\n",
        "        if max(0, d) == 0:\n",
        "            di = W\n",
        "        else:\n",
        "            di = W - (regularization_strength * Y_batch[ind] * X_batch[ind])\n",
        "        dw += di\n",
        "\n",
        "    dw = dw/len(Y_batch) \n",
        "    return dw"
      ],
      "execution_count": null,
      "outputs": []
    },
    {
      "cell_type": "code",
      "metadata": {
        "id": "qUd1XqG4i48T"
      },
      "source": [
        "def sgd(features, outputs):\n",
        "    max_epochs = 10000\n",
        "    weights = np.zeros(features.shape[1])\n",
        "    nth = 0\n",
        "    prev_cost = float(\"inf\")\n",
        "    cost_threshold = 0.01  \n",
        "    for epoch in range(1, max_epochs):\n",
        "        X, Y = shuffle(features, outputs)\n",
        "        ascent = calculate_cost_gradient(weights, X, Y)\n",
        "        weights = weights - (learning_rate * ascent)\n",
        "        if epoch == 2 ** nth or epoch == max_epochs - 1:\n",
        "            cost = compute_cost(weights, features, outputs)\n",
        "            print(\"Epoch is: {} and Cost is: {}\".format(epoch, cost))\n",
        "            prev_cost = cost\n",
        "            nth += 1\n",
        "    return weights"
      ],
      "execution_count": null,
      "outputs": []
    },
    {
      "cell_type": "code",
      "metadata": {
        "id": "nuURBfQdi48W",
        "outputId": "3d6267ef-fe39-4a28-c382-705613629ff4"
      },
      "source": [
        "check_imageData()"
      ],
      "execution_count": null,
      "outputs": [
        {
          "output_type": "stream",
          "text": [
            "Total no. of cars 150\n",
            "Total no. of elephant 150\n",
            "Total no. of fire 150\n",
            "Total no. of lion 150\n"
          ],
          "name": "stdout"
        }
      ]
    },
    {
      "cell_type": "code",
      "metadata": {
        "id": "Ig2Mkvgti48Z"
      },
      "source": [
        "X,Y=initializer()"
      ],
      "execution_count": null,
      "outputs": []
    },
    {
      "cell_type": "code",
      "metadata": {
        "scrolled": false,
        "id": "6IjSXHzAi48a"
      },
      "source": [
        "#data=cross_validation(index,fold=10):\n",
        "\n",
        "# used conventional way\n",
        "X_train, X_test, y_train, y_test = tts(X, Y, test_size=0.2, random_state=42)"
      ],
      "execution_count": null,
      "outputs": []
    },
    {
      "cell_type": "code",
      "metadata": {
        "scrolled": true,
        "id": "0FwL9c-Bi48b",
        "outputId": "e8f57725-d6d7-4802-963d-547dc630a14e"
      },
      "source": [
        "print(X_train.shape)\n",
        "print(y_train.shape)\n",
        "print(X_test.shape)\n",
        "print(y_test.shape)"
      ],
      "execution_count": null,
      "outputs": [
        {
          "output_type": "stream",
          "text": [
            "(480, 256)\n",
            "(480,)\n",
            "(120, 256)\n",
            "(120,)\n"
          ],
          "name": "stdout"
        }
      ]
    },
    {
      "cell_type": "code",
      "metadata": {
        "scrolled": false,
        "id": "6JfPCyVLi48d"
      },
      "source": [
        "# checking OAA for class 1\n",
        "y_test[y_test!=1]=0\n",
        "y_train[y_train!=1]=0"
      ],
      "execution_count": null,
      "outputs": []
    },
    {
      "cell_type": "code",
      "metadata": {
        "id": "urMNGTvoi48e",
        "outputId": "ee21e05c-e6d8-426c-8159-5ef3aefda1d0"
      },
      "source": [
        "regularization_strength = 10000 \n",
        "learning_rate = 0.0001 \n",
        "W = sgd(X_train, y_train.to_numpy())"
      ],
      "execution_count": null,
      "outputs": [
        {
          "output_type": "stream",
          "text": [
            "Epoch is: 1 and Cost is: 7845.890051070395\n",
            "Epoch is: 2 and Cost is: 7639.679131561683\n",
            "Epoch is: 4 and Cost is: 7612.048967725068\n",
            "Epoch is: 8 and Cost is: 7591.644117868317\n",
            "Epoch is: 16 and Cost is: 7580.6434375697545\n",
            "Epoch is: 32 and Cost is: 7571.500530709153\n",
            "Epoch is: 64 and Cost is: 7565.767088759765\n",
            "Epoch is: 128 and Cost is: 7563.204981601287\n",
            "Epoch is: 256 and Cost is: 7563.195388034673\n",
            "Epoch is: 512 and Cost is: 7563.178957290867\n",
            "Epoch is: 1024 and Cost is: 7563.14861999579\n",
            "Epoch is: 2048 and Cost is: 7563.109500087429\n",
            "Epoch is: 4096 and Cost is: 7563.068160298657\n",
            "Epoch is: 8192 and Cost is: 7563.037292685607\n",
            "Epoch is: 9999 and Cost is: 7563.028926912569\n"
          ],
          "name": "stdout"
        }
      ]
    },
    {
      "cell_type": "code",
      "metadata": {
        "id": "LHaV_GMvi48f",
        "outputId": "2967bf46-3cf5-4920-ab17-69c03d4e9b9c"
      },
      "source": [
        "print(\"training finished.\")\n",
        "print(\"weights are: {}\".format(W))"
      ],
      "execution_count": null,
      "outputs": [
        {
          "output_type": "stream",
          "text": [
            "training finished.\n",
            "weights are: [0.50254017 0.03826372 0.10655726 0.11252191 0.05499145 0.05863372\n",
            " 0.0365922  0.03798996 0.02053163 0.06749576 0.07513974 0.0602481\n",
            " 0.06845661 0.00755255 0.04271801 0.07150177 0.02828796 0.10964708\n",
            " 0.04600282 0.02334114 0.04181459 0.0622635  0.09136731 0.09567596\n",
            " 0.01900831 0.08718441 0.07229643 0.06782011 0.07752644 0.08023253\n",
            " 0.0920843  0.09935379 0.11333667 0.04077018 0.09308961 0.08189616\n",
            " 0.09489172 0.07799376 0.07985431 0.05977419 0.07013346 0.07913409\n",
            " 0.08707439 0.10448566 0.0979027  0.09663547 0.09855808 0.06818161\n",
            " 0.07987032 0.09554989 0.06783045 0.1078006  0.11101124 0.09470099\n",
            " 0.09799322 0.06654999 0.07204491 0.06545556 0.05250164 0.07266743\n",
            " 0.05021401 0.04337765 0.05247136 0.05927448 0.06143033 0.06103012\n",
            " 0.07700024 0.08646868 0.08852618 0.08987914 0.09710725 0.08692115\n",
            " 0.074041   0.07793254 0.07600578 0.07855275 0.05961448 0.08291101\n",
            " 0.06990104 0.07697235 0.06097117 0.0450763  0.01902281 0.04237113\n",
            " 0.04590954 0.03852969 0.05161995 0.05580884 0.0573841  0.05122586\n",
            " 0.04685283 0.05640115 0.0434075  0.04578109 0.04144855 0.06075831\n",
            " 0.04853142 0.03451242 0.04648109 0.04264713 0.04660326 0.04243289\n",
            " 0.05257524 0.05538821 0.05579643 0.04481519 0.05080879 0.04943856\n",
            " 0.05999629 0.04750071 0.05046881 0.03443347 0.04954559 0.04934989\n",
            " 0.04824933 0.04542688 0.03391232 0.04667401 0.02821053 0.02581141\n",
            " 0.01575628 0.01507829 0.01633568 0.02074797 0.03435162 0.04877781\n",
            " 0.05376026 0.04935458 0.06264734 0.05223658 0.05502309 0.0403269\n",
            " 0.06533086 0.06739828 0.05111229 0.051929   0.05552835 0.05443164\n",
            " 0.05986808 0.03524354 0.03393245 0.05659327 0.0742308  0.07239299\n",
            " 0.05816525 0.04127788 0.08395172 0.07182402 0.0689424  0.07835593\n",
            " 0.05887621 0.07421483 0.00972597 0.05639257 0.06624692 0.04805946\n",
            " 0.04676085 0.06003508 0.06004688 0.05848241 0.04006525 0.05427029\n",
            " 0.02118233 0.04656188 0.05533186 0.05419094 0.03478388 0.02376468\n",
            " 0.03837195 0.0363711  0.03747183 0.02700985 0.04317027 0.05232311\n",
            " 0.03413978 0.03631802 0.03159908 0.02812755 0.02689441 0.01975578\n",
            " 0.02023528 0.03203459 0.02166518 0.04173966 0.05358593 0.03274697\n",
            " 0.01626214 0.01501192 0.00962105 0.0313901  0.04565416 0.03047648\n",
            " 0.01018079 0.0234686  0.03118473 0.01301115 0.01110717 0.00917187\n",
            " 0.01105807 0.02916602 0.02627981 0.02469977 0.02504191 0.0291021\n",
            " 0.02353376 0.02598077 0.02868585 0.0319831  0.03048355 0.01977646\n",
            " 0.02570027 0.02488041 0.01890302 0.011703   0.00948926 0.01749874\n",
            " 0.01097874 0.03723423 0.02859044 0.01634606 0.01862763 0.02173539\n",
            " 0.04096112 0.03017617 0.03276997 0.03824746 0.05413819 0.05965815\n",
            " 0.03675461 0.03990515 0.02761689 0.04069183 0.01738519 0.0123929\n",
            " 0.01193346 0.01648932 0.01270949 0.02111465 0.0247782  0.04201894\n",
            " 0.02627006 0.02092558 0.01568339 0.02713359 0.0169827  0.0243753\n",
            " 0.01850075 0.01669744 0.02723282 0.0554278  0.08890206 0.18236842\n",
            " 0.05583939 0.03955489 0.01754861 0.05569413]\n"
          ],
          "name": "stdout"
        }
      ]
    },
    {
      "cell_type": "code",
      "metadata": {
        "id": "tYkg1chyi48f",
        "outputId": "393098ff-769f-476b-e50e-a09703e7f21a"
      },
      "source": [
        "print(\"testing the model...\")\n",
        "y_train_predicted = np.array([])\n",
        "for i in range(X_train.shape[0]):\n",
        "    yp = np.sign(np.dot(X_train[i], W))\n",
        "    y_train_predicted = np.append(y_train_predicted, yp)"
      ],
      "execution_count": null,
      "outputs": [
        {
          "output_type": "stream",
          "text": [
            "testing the model...\n"
          ],
          "name": "stdout"
        }
      ]
    },
    {
      "cell_type": "code",
      "metadata": {
        "scrolled": true,
        "id": "x1u1-yp7i48g"
      },
      "source": [
        "y_test_predicted = np.array([])\n",
        "for i in range(X_test.shape[0]):\n",
        "    yp = np.sign(np.dot(X_test[i], W))\n",
        "    y_test_predicted = np.append(y_test_predicted, yp)\n"
      ],
      "execution_count": null,
      "outputs": []
    },
    {
      "cell_type": "code",
      "metadata": {
        "id": "8Uo9332Ui48g",
        "outputId": "a6734e97-dd73-4784-9f76-0118b2306b27"
      },
      "source": [
        "print(\"accuracy on test dataset: {}\".format(accuracy_score(y_test, y_test_predicted)))"
      ],
      "execution_count": null,
      "outputs": [
        {
          "output_type": "stream",
          "text": [
            "accuracy on test dataset: 0.275\n"
          ],
          "name": "stdout"
        }
      ]
    }
  ]
}